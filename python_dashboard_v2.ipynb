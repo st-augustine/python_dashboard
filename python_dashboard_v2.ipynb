{
 "cells": [
  {
   "cell_type": "code",
   "execution_count": null,
   "metadata": {},
   "outputs": [],
   "source": [
    "import streamlit as st\n",
    "import pandas as pd\n",
    "import geopandas as gpd\n",
    "import plotly.express as px"
   ]
  },
  {
   "cell_type": "code",
   "execution_count": null,
   "metadata": {},
   "outputs": [],
   "source": [
    "# 2022 ward boundaries\n",
    "try:\n",
    "  wd22 = gpd.read_file('lbth_wd22.geojson')\n",
    "except Exception:\n",
    "  wd22 = gpd.read_file('https://gist.github.com/joel-lbth/081ff5112ac66e6365a9846a6bc79409/raw/5371719f7fb24c286ce5839fc69e45c0c6049518/lbth-wards.topojson')\n",
    "  wd22.to_file('wd22.geojson', driver='GeoJSON')"
   ]
  },
  {
   "cell_type": "code",
   "execution_count": null,
   "metadata": {},
   "outputs": [],
   "source": [
    "# 2021 lsoa boundaries\n",
    "try:\n",
    "  lsoa21 = gpd.read_file('lbth_lsoa21.geojson')\n",
    "except Exception:\n",
    "  lsoa21 = gpd.read_file('https://gist.github.com/joel-lbth/5c1a6de137eb092bff61e82bd37996aa/raw/e8efb126c04045c6730d6bbbae3863dd5e80dd80/lbth-lsoa21.geojson')\n",
    "  lsoa21.to_file('lbth_lsoa21.geojson', driver='GeoJSON')"
   ]
  },
  {
   "cell_type": "code",
   "execution_count": null,
   "metadata": {},
   "outputs": [],
   "source": [
    "# 2021 oa boundaries\n",
    "try:\n",
    "  oa21 = gpd.read_file('lbth_oa21.geojson')\n",
    "except Exception:\n",
    "  oa21 = gpd.read_file('https://gist.githubusercontent.com/joel-lbth/9cd8cbf8078d78954bb011a0927001a3/raw/cc247b708b2e52c549c03af5923b9dc8d3eec5af/lbth_oa21.geojson')\n",
    "  oa21.to_file('lbth_oa21.geojson', driver='GeoJSON')"
   ]
  },
  {
   "cell_type": "code",
   "execution_count": null,
   "metadata": {},
   "outputs": [],
   "source": [
    "# ward oa lookup\n",
    "try:\n",
    "  wd_oa_lkup = pd.read_csv('wd_lsoa_lkup21.csv')\n",
    "except Exception:\n",
    "  wd_oa_lkup = pd.read_csv('https://gist.githubusercontent.com/joel-lbth/da1b6f54f1cd076bf7336be7336de04b/raw/2e25cc5c14ae4a7914dcfc0c0a64dc131bab84bd/lbth_oa21_ward_lookup.csv')\n",
    "  wd_oa_lkup.to_csv('lbth_wd_oa_lkup.csv')"
   ]
  },
  {
   "cell_type": "code",
   "execution_count": null,
   "metadata": {},
   "outputs": [],
   "source": [
    "def merge_spatial_data(gdf, df, left_on=\"\", right_on=\"\"):\n",
    "    gdf=gdf.merge(df, left_on=left_on, right_on=right_on)\n",
    "    return gdf"
   ]
  },
  {
   "cell_type": "code",
   "execution_count": null,
   "metadata": {},
   "outputs": [],
   "source": [
    "#merge oa and ward df\n",
    "\n",
    "merged_wd_oa=oa21.merge(wd_oa_lkup,left_on='OA21CD', right_on='oa21cd')"
   ]
  },
  {
   "cell_type": "code",
   "execution_count": null,
   "metadata": {},
   "outputs": [],
   "source": [
    "st.session_state['merged_wd_oa'] = merged_wd_oa"
   ]
  },
  {
   "cell_type": "code",
   "execution_count": null,
   "metadata": {},
   "outputs": [],
   "source": [
    "st.set_page_config(layout = \"wide\")\n",
    "st.title(\"Ward profiles\")\n",
    "\n",
    "st.sidebar.selectbox('Select variable',\n",
    "  ['Population density','Deprived in 4 dimensions'])\n"
   ]
  }
 ],
 "metadata": {
  "kernelspec": {
   "display_name": "base",
   "language": "python",
   "name": "python3"
  },
  "language_info": {
   "name": "python",
   "version": "3.9.12 (main, Apr  4 2022, 05:22:27) [MSC v.1916 64 bit (AMD64)]"
  },
  "orig_nbformat": 4,
  "vscode": {
   "interpreter": {
    "hash": "8780240cd15199c0d31e0e99a43f0d9bdf3803161400b6e4ad03b46bb5c18bc3"
   }
  }
 },
 "nbformat": 4,
 "nbformat_minor": 2
}
