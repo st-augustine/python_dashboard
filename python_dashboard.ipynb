{
 "cells": [
  {
   "attachments": {},
   "cell_type": "markdown",
   "metadata": {},
   "source": [
    "Streamlit dashboard\n",
    "=="
   ]
  },
  {
   "cell_type": "markdown",
   "metadata": {},
   "source": [
    "Packages\n",
    "--"
   ]
  },
  {
   "cell_type": "code",
   "execution_count": 23,
   "metadata": {},
   "outputs": [],
   "source": [
    "#import required packages\n",
    "\n",
    "import pandas as pd\n",
    "import numpy as np \n",
    "import streamlit as st\n",
    "import geopandas as gpd\n",
    "import plotly.express as px"
   ]
  },
  {
   "cell_type": "markdown",
   "metadata": {},
   "source": [
    "Boundaries\n",
    "--"
   ]
  },
  {
   "cell_type": "code",
   "execution_count": 24,
   "metadata": {},
   "outputs": [
    {
     "name": "stderr",
     "output_type": "stream",
     "text": [
      "2022-12-14 15:57:58.320 lbth_wd22.geojson: No such file or directory\n"
     ]
    }
   ],
   "source": [
    "# 2022 ward boundaries\n",
    "try:\n",
    "  wd22 = gpd.read_file('lbth_wd22.geojson')\n",
    "except Exception:\n",
    "  wd22 = gpd.read_file('https://gist.github.com/joel-lbth/081ff5112ac66e6365a9846a6bc79409/raw/5371719f7fb24c286ce5839fc69e45c0c6049518/lbth-wards.topojson')\n",
    "  wd22.to_file('wd22.geojson', driver='GeoJSON')"
   ]
  },
  {
   "cell_type": "code",
   "execution_count": 25,
   "metadata": {},
   "outputs": [],
   "source": [
    "# 2021 lsoa boundaries\n",
    "try:\n",
    "  lsoa21 = gpd.read_file('lbth_lsoa21.geojson')\n",
    "except Exception:\n",
    "  lsoa21 = gpd.read_file('https://gist.github.com/joel-lbth/5c1a6de137eb092bff61e82bd37996aa/raw/e8efb126c04045c6730d6bbbae3863dd5e80dd80/lbth-lsoa21.geojson')\n",
    "  lsoa21.to_file('lbth_lsoa21.geojson', driver='GeoJSON')"
   ]
  },
  {
   "cell_type": "code",
   "execution_count": 26,
   "metadata": {},
   "outputs": [],
   "source": [
    "# 2021 oa boundaries\n",
    "try:\n",
    "  oa21 = gpd.read_file('lbth_oa21.geojson')\n",
    "except Exception:\n",
    "  oa21 = gpd.read_file('https://gist.githubusercontent.com/joel-lbth/9cd8cbf8078d78954bb011a0927001a3/raw/cc247b708b2e52c549c03af5923b9dc8d3eec5af/lbth_oa21.geojson')\n",
    "  oa21.to_file('lbth_oa21.geojson', driver='GeoJSON')"
   ]
  },
  {
   "cell_type": "markdown",
   "metadata": {},
   "source": [
    "Lookups\n",
    "--"
   ]
  },
  {
   "cell_type": "code",
   "execution_count": 27,
   "metadata": {},
   "outputs": [],
   "source": [
    "# ward oa lookup\n",
    "try:\n",
    "  wd_oa_lkup = pd.read_csv('wd_lsoa_lkup21.csv')\n",
    "except Exception:\n",
    "  wd_oa_lkup = pd.read_csv('https://gist.githubusercontent.com/joel-lbth/da1b6f54f1cd076bf7336be7336de04b/raw/2e25cc5c14ae4a7914dcfc0c0a64dc131bab84bd/lbth_oa21_ward_lookup.csv')\n",
    "  wd_oa_lkup.to_csv('lbth_wd_oa_lkup.csv')"
   ]
  },
  {
   "cell_type": "markdown",
   "metadata": {},
   "source": [
    "Functions\n",
    "=="
   ]
  },
  {
   "cell_type": "code",
   "execution_count": 28,
   "metadata": {},
   "outputs": [],
   "source": [
    "def merge_spatial_data(gdf, df, left_on=\"\", right_on=\"\"):\n",
    "    gdf=gdf.merge(df, left_on=left_on, right_on=right_on)\n",
    "    return gdf"
   ]
  },
  {
   "cell_type": "markdown",
   "metadata": {},
   "source": [
    "Mapping\n",
    "--"
   ]
  },
  {
   "cell_type": "code",
   "execution_count": 29,
   "metadata": {},
   "outputs": [],
   "source": [
    "#merge oa and ward df\n",
    "\n",
    "merged_wd_oa=oa21.merge(wd_oa_lkup,left_on='OA21CD', right_on='oa21cd')"
   ]
  },
  {
   "cell_type": "code",
   "execution_count": 30,
   "metadata": {},
   "outputs": [],
   "source": [
    "#read in population density by oa dataset\n",
    "\n",
    "try:\n",
    "  popden_oa = pd.read_csv('lbth_census_2021_popden_oa.csv')\n",
    "except:\n",
    "  popden_oa = pd.read_csv('https://www.nomisweb.co.uk/api/v01/dataset/NM_2026_1.data.csv?date=latest&geography=629165479...629165982,629303674...629303812,629317322...629317326,629317336...629317343,629317349...629317360,629317362...629317366,629317371,629317374,629317376,629317378,629317379,629317381,629317385,629317388...629317392,629317394...629317397,629317399...629317403,629317405...629317407,629317409,629317411,629317412,629317416...629317420,629317422...629317424,629317426,629317429...629317434,629317436,629317437,629317440...629317442,629317444...629317450,629317452...629317456,629317459...629317461,629317463,629317466...629317468,629317472,629317474...629317479,629317481,629317483,629317486,629317487,629317490,629317492,629317494,629317495,629317497,629317499...629317502,629317504,629317505,629317507...629317509,629317512...629317514,629317517,629317520,629317523,629317525,629317527,629317531,629317534,629317535,629317537,629317538,629317540,629317543...629317548,629317551,629317554,629317555,629317558,629317560,629317562,629317563,629317565,629317566,629317569...629317573,629317576...629317578,629317580,629317582,629317584,629317585,629317587,629317590...629317592,629317594,629317596...629317599,629317601,629317603,629317604,629317606,629317607,629317610,629317612,629317613,629317615...629317617,629317619...629317621,629317623,629317625...629317629,629317631...629317634,629317636,629317640,629317648,629317650...629317659,629317662,629317663,629317666...629317669,629317672...629317687,629317689,629317691,629317694,629317695,629317697,629317698,629317700,629317701,629317703,629317704,629317706,629317707,629317711...629317714,629317716,629317718...629317720,629317722...629317724,629317726,629317729,629317731,629317733,629317736...629317742,629317744,629317746...629317748,629323624,629323625&cell=0&measures=20100&select=date_name,geography_name,geography_code,cell_name,measures_name,obs_value,obs_status_name')\n",
    "  popden_oa.to_csv('lbth_census_2021_popden_oa.csv')\n",
    "\n",
    "#merge population density data with spatial data\n",
    "popden_merge=merge_spatial_data(merged_wd_oa, popden_oa,\"OA21CD\", \"GEOGRAPHY_CODE\")  "
   ]
  },
  {
   "cell_type": "code",
   "execution_count": 31,
   "metadata": {},
   "outputs": [],
   "source": [
    "#read in deprivation by oa dataset\n",
    "\n",
    "try:\n",
    "  deprivation_oa = pd.read_csv('lbth_census_2021_deprivation_oa.csv')\n",
    "except:\n",
    "  deprivation_oa = pd.read_csv('https://www.nomisweb.co.uk/api/v01/dataset/NM_2031_1.data.csv?date=latest&geography=629165479...629165982,629303674...629303812,629317322...629317326,629317336...629317343,629317349...629317360,629317362...629317366,629317371,629317374,629317376,629317378,629317379,629317381,629317385,629317388...629317392,629317394...629317397,629317399...629317403,629317405...629317407,629317409,629317411,629317412,629317416...629317420,629317422...629317424,629317426,629317429...629317434,629317436,629317437,629317440...629317442,629317444...629317450,629317452...629317456,629317459...629317461,629317463,629317466...629317468,629317472,629317474...629317479,629317481,629317483,629317486,629317487,629317490,629317492,629317494,629317495,629317497,629317499...629317502,629317504,629317505,629317507...629317509,629317512...629317514,629317517,629317520,629317523,629317525,629317527,629317531,629317534,629317535,629317537,629317538,629317540,629317543...629317548,629317551,629317554,629317555,629317558,629317560,629317562,629317563,629317565,629317566,629317569...629317573,629317576...629317578,629317580,629317582,629317584,629317585,629317587,629317590...629317592,629317594,629317596...629317599,629317601,629317603,629317604,629317606,629317607,629317610,629317612,629317613,629317615...629317617,629317619...629317621,629317623,629317625...629317629,629317631...629317634,629317636,629317640,629317648,629317650...629317659,629317662,629317663,629317666...629317669,629317672...629317687,629317689,629317691,629317694,629317695,629317697,629317698,629317700,629317701,629317703,629317704,629317706,629317707,629317711...629317714,629317716,629317718...629317720,629317722...629317724,629317726,629317729,629317731,629317733,629317736...629317742,629317744,629317746...629317748,629323624,629323625&c2021_dep_6=0,5&measures=20100,20301&select=date_name,geography_name,geography_code,c2021_dep_6_name,measures_name,obs_value,obs_status_name')\n",
    "  deprivation_oa.to_csv('lbth_census_2021_deprivation_oa.csv')\n",
    "\n",
    "#merge deprivation data with spatial data\n",
    "deprivation_merge=merge_spatial_data(merged_wd_oa, deprivation_oa,\"OA21CD\", \"GEOGRAPHY_CODE\")"
   ]
  },
  {
   "attachments": {},
   "cell_type": "markdown",
   "metadata": {},
   "source": [
    "Multi-variable dashboard\n",
    "--"
   ]
  },
  {
   "cell_type": "code",
   "execution_count": 32,
   "metadata": {},
   "outputs": [],
   "source": [
    "st.set_page_config(layout = \"wide\")\n",
    "st.header(\"Ward profiles\")\n",
    "\n",
    "page = st.sidebar.selectbox('Select variable',\n",
    "  ['Population density','Deprived in 4 dimensions'])\n",
    "\n",
    "if page == 'Population density':\n",
    "  \n",
    "\n",
    "\n",
    " fig = px.choropleth(popden_merge.dissolve(by='ward_name'),\n",
    "                   geojson=popden_merge.dissolve(by='ward_name').geometry,\n",
    "                   locations=popden_merge.dissolve(by='ward_name').index,\n",
    "                   color=\"OBS_VALUE\",\n",
    "                   color_continuous_scale = 'viridis_r',\n",
    "                   projection=\"mercator\",\n",
    "                   hover_name=popden_merge.dissolve(by='ward_name').index,\n",
    "                   hover_data=['OBS_VALUE'])\n",
    " fig.update_geos(fitbounds=\"locations\", visible=False)\n",
    " st.plotly_chart(fig,use_container_width = True)\n",
    "    \n",
    "else: \n",
    " fig = px.choropleth(deprivation_merge.dissolve(by='ward_name'),\n",
    "                   geojson=deprivation_merge.dissolve(by='ward_name').geometry,\n",
    "                   locations=deprivation_merge.dissolve(by='ward_name').index,\n",
    "                   color=\"OBS_VALUE\",\n",
    "                   color_continuous_scale = 'viridis_r',\n",
    "                   projection=\"mercator\",\n",
    "                   hover_name=deprivation_merge.dissolve(by='ward_name').index,\n",
    "                   hover_data=['OBS_VALUE'])\n",
    " fig.update_geos(fitbounds=\"locations\", visible=False)\n",
    " st.plotly_chart(fig,use_container_width = True)"
   ]
  }
 ],
 "metadata": {
  "kernelspec": {
   "display_name": "Python 3.9.12 ('base')",
   "language": "python",
   "name": "python3"
  },
  "language_info": {
   "codemirror_mode": {
    "name": "ipython",
    "version": 3
   },
   "file_extension": ".py",
   "mimetype": "text/x-python",
   "name": "python",
   "nbconvert_exporter": "python",
   "pygments_lexer": "ipython3",
   "version": "3.9.12"
  },
  "orig_nbformat": 4,
  "vscode": {
   "interpreter": {
    "hash": "8780240cd15199c0d31e0e99a43f0d9bdf3803161400b6e4ad03b46bb5c18bc3"
   }
  }
 },
 "nbformat": 4,
 "nbformat_minor": 2
}
